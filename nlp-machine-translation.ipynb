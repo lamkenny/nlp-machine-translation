{
 "cells": [
  {
   "cell_type": "markdown",
   "metadata": {},
   "source": [
    "# Machine Translation\n",
    "This notebook contains a machine translation pipeline that converts English text into French. The pipeline is divided into three parts. In the first part, text gets converted to a sequence integers. In the second part, we build a couple deep neural network models. In the last part, we use the final model to transform English text into the French translation."
   ]
  },
  {
   "cell_type": "code",
   "execution_count": 101,
   "metadata": {},
   "outputs": [],
   "source": [
    "import os\n",
    "import numpy as np\n",
    "from keras.preprocessing.text import Tokenizer\n",
    "from keras.preprocessing.sequence import pad_sequences\n",
    "from keras.models import Model, Sequential\n",
    "from keras.layers import Activation, Bidirectional, Dense, Dropout, GRU, Input, LSTM, TimeDistributed, RepeatVector\n",
    "from keras.layers.embeddings import Embedding\n",
    "from keras.callbacks import EarlyStopping\n",
    "from keras.losses import sparse_categorical_crossentropy\n",
    "from keras.optimizers import Adam\n",
    "import matplotlib.pyplot as plt\n",
    "\n",
    "%matplotlib inline\n"
   ]
  },
  {
   "cell_type": "markdown",
   "metadata": {},
   "source": [
    "## Preprocessing Text\n",
    "In this step, text gets converted to sequence of integers."
   ]
  },
  {
   "cell_type": "markdown",
   "metadata": {},
   "source": [
    "### Load the Text\n",
    "The text data is already in lowercase and has been delimited with spaces."
   ]
  },
  {
   "cell_type": "code",
   "execution_count": 102,
   "metadata": {},
   "outputs": [],
   "source": [
    "def read_text(path):\n",
    "    \"\"\"\n",
    "    Read text from file given by the path.\n",
    "    \"\"\"\n",
    "    with open(path, 'r') as f:\n",
    "        text = f.read()\n",
    "    return text.split('\\n')\n",
    "\n",
    "english_data = read_text('data/small_vocab_en')\n",
    "french_data = read_text('data/small_vocab_fr')"
   ]
  },
  {
   "cell_type": "code",
   "execution_count": 103,
   "metadata": {},
   "outputs": [
    {
     "name": "stdout",
     "output_type": "stream",
     "text": [
      "En:\t new jersey is sometimes quiet during autumn , and it is snowy in april .\n",
      "\n",
      "Fr:\t new jersey est parfois calme pendant l' automne , et il est neigeux en avril .\n",
      "\n",
      "--------------------\n",
      "\n",
      "\n",
      "En:\t the united states is usually chilly during july , and it is usually freezing in november .\n",
      "\n",
      "Fr:\t les Ã©tats-unis est gÃ©nÃ©ralement froid en juillet , et il gÃ¨le habituellement en novembre .\n",
      "\n",
      "--------------------\n",
      "\n",
      "\n",
      "En:\t california is usually quiet during march , and it is usually hot in june .\n",
      "\n",
      "Fr:\t california est gÃ©nÃ©ralement calme en mars , et il est gÃ©nÃ©ralement chaud en juin .\n",
      "\n",
      "--------------------\n",
      "\n",
      "\n"
     ]
    }
   ],
   "source": [
    "# let's preview what the text looks like in English and French\n",
    "for i in range(3):\n",
    "    print('En:\\t {}\\n'.format(english_data[i]))\n",
    "    print('Fr:\\t {}\\n'.format(french_data[i]))\n",
    "    print('-'*20)\n",
    "    print('\\n')"
   ]
  },
  {
   "cell_type": "markdown",
   "metadata": {},
   "source": [
    "### Preprocess\n",
    "In order to use this in a neural network, we must encode text data as integers. We'll do this with a tokenizer.\n",
    "\n",
    "Once words are tokenized, each sentence needs to be the same length. For sentences that are short, we will add padding to the end."
   ]
  },
  {
   "cell_type": "code",
   "execution_count": 104,
   "metadata": {},
   "outputs": [],
   "source": [
    "def tokenize(strings):\n",
    "    \"\"\"\n",
    "    Transform the sequence of words into a sequence of integers.\n",
    "    :return: (sequence of integers, corpus size)\n",
    "    \"\"\"\n",
    "    tokenizer = Tokenizer()\n",
    "    tokenizer.fit_on_texts(strings)\n",
    "    index_words_dict = {id: word for word, id in tokenizer.word_index.items()}\n",
    "    index_words_dict[0] = '*'\n",
    "    \n",
    "    return tokenizer.texts_to_sequences(strings), index_words_dict\n",
    "\n",
    "def prediction_to_text(predictions, index_words_dict):\n",
    "    \"\"\"\n",
    "    Transform the output from a neural network into text\n",
    "    \"\"\"\n",
    "    return ' '.join([index_words_dict[i] for i in np.argmax(predictions, 1)])\n",
    "\n",
    "def pad(seq, maxlen=None):\n",
    "    \"\"\"\n",
    "    Add padding to the sequence.\n",
    "    \"\"\"\n",
    "    return pad_sequences(seq, maxlen=maxlen, padding='post')"
   ]
  },
  {
   "cell_type": "code",
   "execution_count": 105,
   "metadata": {},
   "outputs": [],
   "source": [
    "english_seq, english_index_words_dict = tokenize(english_data)\n",
    "french_seq, french_index_words_dict = tokenize(french_data)\n",
    "english_seq = pad(english_seq)\n",
    "french_seq = pad(french_seq)\n",
    "\n",
    "# sparse_categorical_crossentropy requires labels to be in 3 dimensions\n",
    "french_seq = french_seq.reshape(*french_seq.shape, 1)"
   ]
  },
  {
   "cell_type": "code",
   "execution_count": 106,
   "metadata": {},
   "outputs": [
    {
     "name": "stdout",
     "output_type": "stream",
     "text": [
      "There are 345 distinct output tokens\n"
     ]
    }
   ],
   "source": [
    "print('There are %s distinct output tokens' % (len(french_index_words_dict) - 1))"
   ]
  },
  {
   "cell_type": "markdown",
   "metadata": {},
   "source": [
    "## Model 1: Basic RNN\n",
    "Build a simple model that translate English to French. This establishes a baseline."
   ]
  },
  {
   "cell_type": "code",
   "execution_count": 107,
   "metadata": {},
   "outputs": [
    {
     "name": "stdout",
     "output_type": "stream",
     "text": [
      "Model: \"sequential_10\"\n",
      "_________________________________________________________________\n",
      "Layer (type)                 Output Shape              Param #   \n",
      "=================================================================\n",
      "gru_8 (GRU)                  (None, 21, 256)           198144    \n",
      "_________________________________________________________________\n",
      "time_distributed_19 (TimeDis (None, 21, 1024)          263168    \n",
      "_________________________________________________________________\n",
      "dropout_10 (Dropout)         (None, 21, 1024)          0         \n",
      "_________________________________________________________________\n",
      "time_distributed_20 (TimeDis (None, 21, 345)           353625    \n",
      "=================================================================\n",
      "Total params: 814,937\n",
      "Trainable params: 814,937\n",
      "Non-trainable params: 0\n",
      "_________________________________________________________________\n"
     ]
    }
   ],
   "source": [
    "EPOCHS=30\n",
    "rnn_input = pad(english_seq, french_seq.shape[1])\n",
    "rnn_input = rnn_input.reshape((-1, french_seq.shape[-2], 1))\n",
    "basic_rnn = Sequential()\n",
    "basic_rnn.add(GRU(256, \n",
    "                  input_shape=rnn_input.shape[1:], \n",
    "                  return_sequences=True))\n",
    "basic_rnn.add(TimeDistributed(Dense(1024, activation='relu')))\n",
    "basic_rnn.add(Dropout(0.2))\n",
    "basic_rnn.add(TimeDistributed(Dense(\n",
    "                len(french_index_words_dict) - 1, # French corpus size\n",
    "                activation='softmax'\n",
    "                )))\n",
    "basic_rnn.compile(loss=sparse_categorical_crossentropy,\n",
    "                 optimizer=Adam(0.001),\n",
    "                 metrics=['accuracy'])\n",
    "basic_rnn.summary()"
   ]
  },
  {
   "cell_type": "code",
   "execution_count": 108,
   "metadata": {},
   "outputs": [
    {
     "name": "stdout",
     "output_type": "stream",
     "text": [
      "Train on 110288 samples, validate on 27573 samples\n",
      "Epoch 1/30\n",
      "110288/110288 [==============================] - 11s 103us/step - loss: 2.3273 - accuracy: 0.5019 - val_loss: nan - val_accuracy: 0.5800\n",
      "Epoch 2/30\n",
      "110288/110288 [==============================] - 11s 95us/step - loss: 1.4838 - accuracy: 0.5958 - val_loss: nan - val_accuracy: 0.6232\n",
      "Epoch 3/30\n",
      "110288/110288 [==============================] - 11s 97us/step - loss: 1.3011 - accuracy: 0.6237 - val_loss: nan - val_accuracy: 0.6414\n",
      "Epoch 4/30\n",
      "110288/110288 [==============================] - 11s 96us/step - loss: 1.1872 - accuracy: 0.6478 - val_loss: nan - val_accuracy: 0.6602\n",
      "Epoch 5/30\n",
      "110288/110288 [==============================] - 11s 97us/step - loss: 1.1052 - accuracy: 0.6631 - val_loss: nan - val_accuracy: 0.6797\n",
      "Epoch 6/30\n",
      "110288/110288 [==============================] - 11s 96us/step - loss: 1.0466 - accuracy: 0.6737 - val_loss: nan - val_accuracy: 0.6885\n",
      "Epoch 7/30\n",
      "110288/110288 [==============================] - 11s 99us/step - loss: 0.9996 - accuracy: 0.6831 - val_loss: nan - val_accuracy: 0.7017\n",
      "Epoch 8/30\n",
      "110288/110288 [==============================] - 10s 95us/step - loss: 0.9597 - accuracy: 0.6919 - val_loss: nan - val_accuracy: 0.7027\n",
      "Epoch 9/30\n",
      "110288/110288 [==============================] - 11s 96us/step - loss: 0.9238 - accuracy: 0.7005 - val_loss: nan - val_accuracy: 0.7163\n",
      "Epoch 10/30\n",
      "110288/110288 [==============================] - 11s 95us/step - loss: 0.8945 - accuracy: 0.7069 - val_loss: nan - val_accuracy: 0.7245\n",
      "Epoch 11/30\n",
      "110288/110288 [==============================] - 10s 95us/step - loss: 0.8637 - accuracy: 0.7148 - val_loss: nan - val_accuracy: 0.7326\n",
      "Epoch 12/30\n",
      "110288/110288 [==============================] - 11s 97us/step - loss: 0.8401 - accuracy: 0.7197 - val_loss: nan - val_accuracy: 0.7317\n",
      "Epoch 13/30\n",
      "110288/110288 [==============================] - 11s 98us/step - loss: 0.8176 - accuracy: 0.7252 - val_loss: nan - val_accuracy: 0.7391\n",
      "Epoch 14/30\n",
      "110288/110288 [==============================] - 11s 97us/step - loss: 0.7951 - accuracy: 0.7319 - val_loss: nan - val_accuracy: 0.7512\n",
      "Epoch 15/30\n",
      "110288/110288 [==============================] - 11s 97us/step - loss: 0.7689 - accuracy: 0.7416 - val_loss: nan - val_accuracy: 0.7584\n",
      "Epoch 16/30\n",
      "110288/110288 [==============================] - 11s 95us/step - loss: 0.7410 - accuracy: 0.7518 - val_loss: nan - val_accuracy: 0.7675\n",
      "Epoch 17/30\n",
      "110288/110288 [==============================] - 11s 95us/step - loss: 0.7191 - accuracy: 0.7590 - val_loss: nan - val_accuracy: 0.7787\n",
      "Epoch 18/30\n",
      "110288/110288 [==============================] - 11s 98us/step - loss: 0.7033 - accuracy: 0.7636 - val_loss: nan - val_accuracy: 0.7773\n",
      "Epoch 19/30\n",
      "110288/110288 [==============================] - 11s 97us/step - loss: 0.6860 - accuracy: 0.7686 - val_loss: nan - val_accuracy: 0.7745\n",
      "Epoch 20/30\n",
      "110288/110288 [==============================] - 11s 95us/step - loss: 0.6716 - accuracy: 0.7735 - val_loss: nan - val_accuracy: 0.7908\n",
      "Epoch 21/30\n",
      "110288/110288 [==============================] - 11s 97us/step - loss: 0.6541 - accuracy: 0.7798 - val_loss: nan - val_accuracy: 0.7884\n",
      "Epoch 22/30\n",
      "110288/110288 [==============================] - 11s 98us/step - loss: 0.6403 - accuracy: 0.7850 - val_loss: nan - val_accuracy: 0.8017\n",
      "Epoch 23/30\n",
      "110288/110288 [==============================] - 11s 96us/step - loss: 0.6203 - accuracy: 0.7938 - val_loss: nan - val_accuracy: 0.8109\n",
      "Epoch 24/30\n",
      "110288/110288 [==============================] - 11s 96us/step - loss: 0.6026 - accuracy: 0.8010 - val_loss: nan - val_accuracy: 0.8114\n",
      "Epoch 25/30\n",
      "110288/110288 [==============================] - 11s 96us/step - loss: 0.5951 - accuracy: 0.8031 - val_loss: nan - val_accuracy: 0.8190\n",
      "Epoch 26/30\n",
      "110288/110288 [==============================] - 11s 97us/step - loss: 0.5791 - accuracy: 0.8094 - val_loss: nan - val_accuracy: 0.8221\n",
      "Epoch 27/30\n",
      "110288/110288 [==============================] - 11s 101us/step - loss: 0.5710 - accuracy: 0.8115 - val_loss: nan - val_accuracy: 0.8219\n",
      "Epoch 28/30\n",
      "110288/110288 [==============================] - 13s 114us/step - loss: 0.5626 - accuracy: 0.8141 - val_loss: nan - val_accuracy: 0.8276\n",
      "Epoch 29/30\n",
      "110288/110288 [==============================] - 11s 98us/step - loss: 0.5552 - accuracy: 0.8161 - val_loss: nan - val_accuracy: 0.8254\n",
      "Epoch 30/30\n",
      "110288/110288 [==============================] - 11s 96us/step - loss: 0.5479 - accuracy: 0.8182 - val_loss: nan - val_accuracy: 0.8259\n"
     ]
    }
   ],
   "source": [
    "r = basic_rnn.fit(rnn_input, french_seq, batch_size=1024, epochs=EPOCHS, validation_split=0.2\n",
    "                 )"
   ]
  },
  {
   "cell_type": "code",
   "execution_count": 109,
   "metadata": {},
   "outputs": [
    {
     "data": {
      "image/png": "[encoded data removed]",
      "text/plain": [
       "<Figure size 432x288 with 1 Axes>"
      ]
     },
     "metadata": {
      "needs_background": "light"
     },
     "output_type": "display_data"
    }
   ],
   "source": [
    "plt.plot(r.history['accuracy'], label='accuracy')\n",
    "plt.plot(r.history['val_accuracy'], label='val_accuracy')\n",
    "plt.legend()\n",
    "plt.show()"
   ]
  },
  {
   "cell_type": "markdown",
   "metadata": {},
   "source": [
    "### Use Simple RRN Model for Translation"
   ]
  },
  {
   "cell_type": "code",
   "execution_count": 110,
   "metadata": {},
   "outputs": [
    {
     "name": "stdout",
     "output_type": "stream",
     "text": [
      "original english: \n",
      "\n",
      "\t['new jersey is sometimes quiet during autumn , and it is snowy in april .']\n",
      "\n",
      "\n",
      "original translation: \n",
      "\n",
      "\t[\"new jersey est parfois calme pendant l' automne , et il est neigeux en avril .\"]\n",
      "\n",
      "\n",
      "model's translation: \n",
      "\n",
      "\t['new jersey est parfois calme en mois de il et il est avril en avril      ']\n",
      "\n",
      "\n"
     ]
    }
   ],
   "source": [
    "def print_translation(english, french, prediction):\n",
    "    print('original english: \\n\\n\\t{}'.format(english))\n",
    "    print('\\n')\n",
    "    print('original translation: \\n\\n\\t{}'.format(french))\n",
    "    print('\\n')\n",
    "    print(\"model's translation: \\n\\n\\t{}\".format([prediction]))\n",
    "    print('\\n')\n",
    "    \n",
    "translation = prediction_to_text(basic_rnn.predict(rnn_input[:1])[0], french_index_words_dict)\n",
    "translation = ''.join([i for i in translation if i != '*']) # drops padding\n",
    "\n",
    "print_translation(english_data[:1], french_data[:1], translation)"
   ]
  },
  {
   "cell_type": "code",
   "execution_count": null,
   "metadata": {},
   "outputs": [],
   "source": []
  },
  {
   "cell_type": "markdown",
   "metadata": {},
   "source": [
    "## Model 2: Bidirectional Encoder/Decoder\n",
    "Make a bidirectional RNNs to create a new word sequence that contains both the original sequence and the original sequence in reverse. Since the new sequence is a combination of words in both directions, name entities can be correctly marked.\n",
    "\n",
    "Use an embedding layer to capture the word relationships.\n",
    "\n",
    "Create an RNN encoder so that a condense representation of the information is learned from the input word sequence.\n",
    "\n",
    "Create a decoder that produces a new sequence in the target language from the output vectors of the encoder.\n"
   ]
  },
  {
   "cell_type": "code",
   "execution_count": 111,
   "metadata": {},
   "outputs": [
    {
     "name": "stdout",
     "output_type": "stream",
     "text": [
      "Model: \"sequential_11\"\n",
      "_________________________________________________________________\n",
      "Layer (type)                 Output Shape              Param #   \n",
      "=================================================================\n",
      "embedding_5 (Embedding)      (None, 15, 100)           20000     \n",
      "_________________________________________________________________\n",
      "bidirectional_9 (Bidirection (None, 256)               234496    \n",
      "_________________________________________________________________\n",
      "repeat_vector_5 (RepeatVecto (None, 21, 256)           0         \n",
      "_________________________________________________________________\n",
      "bidirectional_10 (Bidirectio (None, 21, 256)           394240    \n",
      "_________________________________________________________________\n",
      "time_distributed_21 (TimeDis (None, 21, 256)           65792     \n",
      "_________________________________________________________________\n",
      "dropout_11 (Dropout)         (None, 21, 256)           0         \n",
      "_________________________________________________________________\n",
      "time_distributed_22 (TimeDis (None, 21, 346)           88922     \n",
      "=================================================================\n",
      "Total params: 803,450\n",
      "Trainable params: 803,450\n",
      "Non-trainable params: 0\n",
      "_________________________________________________________________\n"
     ]
    }
   ],
   "source": [
    "input_shape = english_seq.shape\n",
    "\n",
    "EMBEDDING_DIM = 100\n",
    "english_corpus_size = len(english_index_words_dict)\n",
    "french_corpus_size = len(french_index_words_dict)\n",
    "output_sequence_length = french_seq.shape[1]\n",
    "\n",
    "model = Sequential()\n",
    "model.add(\n",
    "    Embedding(\n",
    "        english_corpus_size,\n",
    "        EMBEDDING_DIM,\n",
    "        input_length = input_shape[1],\n",
    "        input_shape = input_shape[1:]\n",
    "    )\n",
    ")\n",
    "#Encoder\n",
    "# model.add(Bidirectional(GRU(128)))\n",
    "model.add(Bidirectional(LSTM(128)))\n",
    "model.add(RepeatVector(output_sequence_length))\n",
    "#Decoder\n",
    "# model.add(Bidirectional(GRU(128, return_sequences=True)))\n",
    "model.add(Bidirectional(LSTM(128, return_sequences=True)))\n",
    "model.add(TimeDistributed(Dense(256, activation='relu')))\n",
    "model.add(Dropout(0.2))\n",
    "#Prediction\n",
    "model.add(TimeDistributed(Dense(french_corpus_size, activation='softmax')))\n",
    "model.compile(loss=sparse_categorical_crossentropy,\n",
    "             optimizer=Adam(0.001),\n",
    "             metrics=['accuracy'])\n",
    "model.summary()"
   ]
  },
  {
   "cell_type": "code",
   "execution_count": 112,
   "metadata": {},
   "outputs": [
    {
     "name": "stdout",
     "output_type": "stream",
     "text": [
      "Train on 110288 samples, validate on 27573 samples\n",
      "Epoch 1/30\n",
      "110288/110288 [==============================] - 14s 131us/step - loss: 2.9081 - accuracy: 0.4589 - val_loss: 2.2268 - val_accuracy: 0.5072\n",
      "Epoch 2/30\n",
      "110288/110288 [==============================] - 13s 119us/step - loss: 1.9450 - accuracy: 0.5250 - val_loss: 1.6637 - val_accuracy: 0.5653\n",
      "Epoch 3/30\n",
      "110288/110288 [==============================] - 13s 120us/step - loss: 1.5760 - accuracy: 0.5774 - val_loss: 1.3792 - val_accuracy: 0.6199\n",
      "Epoch 4/30\n",
      "110288/110288 [==============================] - 13s 120us/step - loss: 1.3655 - accuracy: 0.6202 - val_loss: 1.2397 - val_accuracy: 0.6500\n",
      "Epoch 5/30\n",
      "110288/110288 [==============================] - 13s 120us/step - loss: 1.2044 - accuracy: 0.6556 - val_loss: 1.0703 - val_accuracy: 0.6887\n",
      "Epoch 6/30\n",
      "110288/110288 [==============================] - 13s 122us/step - loss: 1.0729 - accuracy: 0.6875 - val_loss: 0.9596 - val_accuracy: 0.7166\n",
      "Epoch 7/30\n",
      "110288/110288 [==============================] - 13s 122us/step - loss: 0.9746 - accuracy: 0.7129 - val_loss: 0.8827 - val_accuracy: 0.7390\n",
      "Epoch 8/30\n",
      "110288/110288 [==============================] - 18s 163us/step - loss: 0.9123 - accuracy: 0.7284 - val_loss: 0.8241 - val_accuracy: 0.7525\n",
      "Epoch 9/30\n",
      "110288/110288 [==============================] - 42s 378us/step - loss: 0.8434 - accuracy: 0.7457 - val_loss: 0.7693 - val_accuracy: 0.7645\n",
      "Epoch 10/30\n",
      "110288/110288 [==============================] - 41s 374us/step - loss: 0.7916 - accuracy: 0.7581 - val_loss: 0.7096 - val_accuracy: 0.7814\n",
      "Epoch 11/30\n",
      "110288/110288 [==============================] - 43s 386us/step - loss: 0.7314 - accuracy: 0.7749 - val_loss: 0.6925 - val_accuracy: 0.7858\n",
      "Epoch 12/30\n",
      "110288/110288 [==============================] - 40s 366us/step - loss: 0.6813 - accuracy: 0.7896 - val_loss: 0.6156 - val_accuracy: 0.8116\n",
      "Epoch 13/30\n",
      "110288/110288 [==============================] - 41s 369us/step - loss: 0.6230 - accuracy: 0.8090 - val_loss: 0.5449 - val_accuracy: 0.8362\n",
      "Epoch 14/30\n",
      "110288/110288 [==============================] - 41s 369us/step - loss: 0.5686 - accuracy: 0.8256 - val_loss: 0.4848 - val_accuracy: 0.8539\n",
      "Epoch 15/30\n",
      "110288/110288 [==============================] - 41s 376us/step - loss: 0.5142 - accuracy: 0.8415 - val_loss: 0.4376 - val_accuracy: 0.8681\n",
      "Epoch 16/30\n",
      "110288/110288 [==============================] - 42s 379us/step - loss: 0.4636 - accuracy: 0.8568 - val_loss: 0.3934 - val_accuracy: 0.8825\n",
      "Epoch 17/30\n",
      "110288/110288 [==============================] - 42s 378us/step - loss: 0.4258 - accuracy: 0.8686 - val_loss: 0.3553 - val_accuracy: 0.8950\n",
      "Epoch 18/30\n",
      "110288/110288 [==============================] - 42s 378us/step - loss: 0.3896 - accuracy: 0.8808 - val_loss: 0.3266 - val_accuracy: 0.9038\n",
      "Epoch 19/30\n",
      "110288/110288 [==============================] - 42s 379us/step - loss: 0.3572 - accuracy: 0.8913 - val_loss: 0.3077 - val_accuracy: 0.9086\n",
      "Epoch 20/30\n",
      "110288/110288 [==============================] - 43s 389us/step - loss: 0.3350 - accuracy: 0.8983 - val_loss: 0.2829 - val_accuracy: 0.9171\n",
      "Epoch 21/30\n",
      "110288/110288 [==============================] - 42s 377us/step - loss: 0.3116 - accuracy: 0.9054 - val_loss: 0.2601 - val_accuracy: 0.9241\n",
      "Epoch 22/30\n",
      "110288/110288 [==============================] - 42s 380us/step - loss: 0.2942 - accuracy: 0.9109 - val_loss: 0.2502 - val_accuracy: 0.9248\n",
      "Epoch 23/30\n",
      "110288/110288 [==============================] - 42s 380us/step - loss: 0.2721 - accuracy: 0.9179 - val_loss: 0.2278 - val_accuracy: 0.9314\n",
      "Epoch 24/30\n",
      "110288/110288 [==============================] - 41s 373us/step - loss: 0.2537 - accuracy: 0.9232 - val_loss: 0.2181 - val_accuracy: 0.9340\n",
      "Epoch 25/30\n",
      "110288/110288 [==============================] - 41s 376us/step - loss: 0.2410 - accuracy: 0.9271 - val_loss: 0.2036 - val_accuracy: 0.9387\n",
      "Epoch 26/30\n",
      "110288/110288 [==============================] - 42s 379us/step - loss: 0.2276 - accuracy: 0.9313 - val_loss: 0.1920 - val_accuracy: 0.9421\n",
      "Epoch 27/30\n",
      "110288/110288 [==============================] - 41s 376us/step - loss: 0.2138 - accuracy: 0.9355 - val_loss: 0.1871 - val_accuracy: 0.9444\n",
      "Epoch 28/30\n",
      "110288/110288 [==============================] - 42s 382us/step - loss: 0.2017 - accuracy: 0.9392 - val_loss: 0.1752 - val_accuracy: 0.9472\n",
      "Epoch 29/30\n",
      "110288/110288 [==============================] - 41s 371us/step - loss: 0.1935 - accuracy: 0.9413 - val_loss: 0.1633 - val_accuracy: 0.9515\n",
      "Epoch 30/30\n",
      "110288/110288 [==============================] - 41s 372us/step - loss: 0.1831 - accuracy: 0.9446 - val_loss: 0.1610 - val_accuracy: 0.9514\n"
     ]
    }
   ],
   "source": [
    "r = model.fit(english_seq, french_seq, batch_size=1024, epochs=EPOCHS, validation_split=0.2)"
   ]
  },
  {
   "cell_type": "code",
   "execution_count": null,
   "metadata": {},
   "outputs": [],
   "source": []
  },
  {
   "cell_type": "code",
   "execution_count": 113,
   "metadata": {},
   "outputs": [
    {
     "data": {
      "image/png": "[encoded data removed]",
      "text/plain": [
       "<Figure size 432x288 with 1 Axes>"
      ]
     },
     "metadata": {
      "needs_background": "light"
     },
     "output_type": "display_data"
    }
   ],
   "source": [
    "plt.plot(r.history['accuracy'], label='accuracy')\n",
    "plt.plot(r.history['val_accuracy'], label='val_accuracy')\n",
    "plt.legend()\n",
    "plt.show()"
   ]
  },
  {
   "cell_type": "markdown",
   "metadata": {},
   "source": [
    "### Use Final Model for Translation"
   ]
  },
  {
   "cell_type": "code",
   "execution_count": 114,
   "metadata": {},
   "outputs": [
    {
     "name": "stdout",
     "output_type": "stream",
     "text": [
      "original english: \n",
      "\n",
      "\t['new jersey is sometimes quiet during autumn , and it is snowy in april .']\n",
      "\n",
      "\n",
      "original translation: \n",
      "\n",
      "\t[\"new jersey est parfois calme pendant l' automne , et il est neigeux en avril .\"]\n",
      "\n",
      "\n",
      "model's translation: \n",
      "\n",
      "\t[\"new jersey est parfois calme pendant l' automne et il est neigeux en avril\"]\n",
      "\n",
      "\n"
     ]
    }
   ],
   "source": [
    "to_predict = english_seq[:1]\n",
    "prediction = model.predict(to_predict, len(to_predict))\n",
    "translation = [french_index_words_dict[np.argmax(i)] for i in prediction[0]]\n",
    "translation = ' '.join([i for i in translation if i != '*'])\n",
    "print_translation(english_data[:1], french_data[:1], translation)"
   ]
  },
  {
   "cell_type": "code",
   "execution_count": null,
   "metadata": {},
   "outputs": [],
   "source": []
  }
 ],
 "metadata": {
  "kernelspec": {
   "display_name": "Python 3",
   "language": "python",
   "name": "python3"
  },
  "language_info": {
   "codemirror_mode": {
    "name": "ipython",
    "version": 3
   },
   "file_extension": ".py",
   "mimetype": "text/x-python",
   "name": "python",
   "nbconvert_exporter": "python",
   "pygments_lexer": "ipython3",
   "version": "3.7.6"
  }
 },
 "nbformat": 4,
 "nbformat_minor": 2
}
